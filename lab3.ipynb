{
 "cells": [
  {
   "cell_type": "markdown",
   "metadata": {},
   "source": [
    "# Lab3"
   ]
  },
  {
   "cell_type": "code",
   "execution_count": 1,
   "metadata": {},
   "outputs": [],
   "source": [
    "import pandas as pd"
   ]
  },
  {
   "cell_type": "markdown",
   "metadata": {},
   "source": [
    "### Tidying"
   ]
  },
  {
   "cell_type": "code",
   "execution_count": 2,
   "metadata": {},
   "outputs": [
    {
     "data": {
      "text/html": [
       "<div>\n",
       "<style scoped>\n",
       "    .dataframe tbody tr th:only-of-type {\n",
       "        vertical-align: middle;\n",
       "    }\n",
       "\n",
       "    .dataframe tbody tr th {\n",
       "        vertical-align: top;\n",
       "    }\n",
       "\n",
       "    .dataframe thead th {\n",
       "        text-align: right;\n",
       "    }\n",
       "</style>\n",
       "<table border=\"1\" class=\"dataframe\">\n",
       "  <thead>\n",
       "    <tr style=\"text-align: right;\">\n",
       "      <th></th>\n",
       "      <th>id</th>\n",
       "      <th>name</th>\n",
       "      <th>location</th>\n",
       "      <th>length</th>\n",
       "      <th>gain</th>\n",
       "      <th>highpoint</th>\n",
       "      <th>rating</th>\n",
       "      <th>features</th>\n",
       "      <th>description</th>\n",
       "    </tr>\n",
       "  </thead>\n",
       "  <tbody>\n",
       "    <tr>\n",
       "      <th>0</th>\n",
       "      <td>1</td>\n",
       "      <td>Lake Hills Greenbelt</td>\n",
       "      <td>Puget Sound and Islands -- Seattle-Tacoma Area</td>\n",
       "      <td>2.3 miles, roundtrip</td>\n",
       "      <td>50</td>\n",
       "      <td>330.0</td>\n",
       "      <td>3.67</td>\n",
       "      <td>Dogs allowed on leash</td>\n",
       "      <td>Hike through a pastoral area first settled and...</td>\n",
       "    </tr>\n",
       "    <tr>\n",
       "      <th>1</th>\n",
       "      <td>1</td>\n",
       "      <td>Lake Hills Greenbelt</td>\n",
       "      <td>Puget Sound and Islands -- Seattle-Tacoma Area</td>\n",
       "      <td>2.3 miles, roundtrip</td>\n",
       "      <td>50</td>\n",
       "      <td>330.0</td>\n",
       "      <td>3.67</td>\n",
       "      <td>Wildlife</td>\n",
       "      <td>Hike through a pastoral area first settled and...</td>\n",
       "    </tr>\n",
       "    <tr>\n",
       "      <th>2</th>\n",
       "      <td>1</td>\n",
       "      <td>Lake Hills Greenbelt</td>\n",
       "      <td>Puget Sound and Islands -- Seattle-Tacoma Area</td>\n",
       "      <td>2.3 miles, roundtrip</td>\n",
       "      <td>50</td>\n",
       "      <td>330.0</td>\n",
       "      <td>3.67</td>\n",
       "      <td>Good for kids</td>\n",
       "      <td>Hike through a pastoral area first settled and...</td>\n",
       "    </tr>\n",
       "    <tr>\n",
       "      <th>3</th>\n",
       "      <td>1</td>\n",
       "      <td>Lake Hills Greenbelt</td>\n",
       "      <td>Puget Sound and Islands -- Seattle-Tacoma Area</td>\n",
       "      <td>2.3 miles, roundtrip</td>\n",
       "      <td>50</td>\n",
       "      <td>330.0</td>\n",
       "      <td>3.67</td>\n",
       "      <td>Lakes</td>\n",
       "      <td>Hike through a pastoral area first settled and...</td>\n",
       "    </tr>\n",
       "    <tr>\n",
       "      <th>4</th>\n",
       "      <td>1</td>\n",
       "      <td>Lake Hills Greenbelt</td>\n",
       "      <td>Puget Sound and Islands -- Seattle-Tacoma Area</td>\n",
       "      <td>2.3 miles, roundtrip</td>\n",
       "      <td>50</td>\n",
       "      <td>330.0</td>\n",
       "      <td>3.67</td>\n",
       "      <td>Fall foliage</td>\n",
       "      <td>Hike through a pastoral area first settled and...</td>\n",
       "    </tr>\n",
       "  </tbody>\n",
       "</table>\n",
       "</div>"
      ],
      "text/plain": [
       "   id                  name                                        location  \\\n",
       "0   1  Lake Hills Greenbelt  Puget Sound and Islands -- Seattle-Tacoma Area   \n",
       "1   1  Lake Hills Greenbelt  Puget Sound and Islands -- Seattle-Tacoma Area   \n",
       "2   1  Lake Hills Greenbelt  Puget Sound and Islands -- Seattle-Tacoma Area   \n",
       "3   1  Lake Hills Greenbelt  Puget Sound and Islands -- Seattle-Tacoma Area   \n",
       "4   1  Lake Hills Greenbelt  Puget Sound and Islands -- Seattle-Tacoma Area   \n",
       "\n",
       "                 length  gain  highpoint  rating               features  \\\n",
       "0  2.3 miles, roundtrip    50      330.0    3.67  Dogs allowed on leash   \n",
       "1  2.3 miles, roundtrip    50      330.0    3.67               Wildlife   \n",
       "2  2.3 miles, roundtrip    50      330.0    3.67          Good for kids   \n",
       "3  2.3 miles, roundtrip    50      330.0    3.67                  Lakes   \n",
       "4  2.3 miles, roundtrip    50      330.0    3.67           Fall foliage   \n",
       "\n",
       "                                         description  \n",
       "0  Hike through a pastoral area first settled and...  \n",
       "1  Hike through a pastoral area first settled and...  \n",
       "2  Hike through a pastoral area first settled and...  \n",
       "3  Hike through a pastoral area first settled and...  \n",
       "4  Hike through a pastoral area first settled and...  "
      ]
     },
     "execution_count": 2,
     "metadata": {},
     "output_type": "execute_result"
    }
   ],
   "source": [
    "data = pd.read_csv('./data/hike_long.csv')\n",
    "data.head()"
   ]
  },
  {
   "cell_type": "code",
   "execution_count": 4,
   "metadata": {},
   "outputs": [
    {
     "name": "stdout",
     "output_type": "stream",
     "text": [
      "<class 'pandas.core.frame.DataFrame'>\n",
      "RangeIndex: 8774 entries, 0 to 8773\n",
      "Data columns (total 9 columns):\n",
      " #   Column       Non-Null Count  Dtype  \n",
      "---  ------       --------------  -----  \n",
      " 0   id           8774 non-null   int64  \n",
      " 1   name         8774 non-null   object \n",
      " 2   location     8774 non-null   object \n",
      " 3   length       8774 non-null   object \n",
      " 4   gain         8774 non-null   int64  \n",
      " 5   highpoint    8774 non-null   float64\n",
      " 6   rating       8774 non-null   float64\n",
      " 7   features     8774 non-null   object \n",
      " 8   description  8227 non-null   object \n",
      "dtypes: float64(2), int64(2), object(5)\n",
      "memory usage: 617.0+ KB\n"
     ]
    }
   ],
   "source": [
    "# we can see that gain, highpoint, rating are already in numeric form\n",
    "data.info()"
   ]
  },
  {
   "cell_type": "code",
   "execution_count": 14,
   "metadata": {},
   "outputs": [],
   "source": [
    "# Add new column trip with the type of trip from column length (“roundtrip”, “trails”,“one-way”)\n",
    "\n",
    "data['trip'] = data['length'].apply(lambda m: m.split(' ')[-1])"
   ]
  },
  {
   "cell_type": "code",
   "execution_count": 32,
   "metadata": {},
   "outputs": [],
   "source": [
    "# Add new column length_total with the route length from column length, considering \n",
    "# that for “one-way” trip you must double the route length\n",
    "\n",
    "data['length_total'] = data['length'].apply(lambda m: m.split(' ')[0]).astype('float')\n",
    "data.loc[data.trip=='one-way','length_total']*=2"
   ]
  },
  {
   "cell_type": "code",
   "execution_count": 38,
   "metadata": {},
   "outputs": [],
   "source": [
    "# Add new column location_general with location from column location (a part before“–”)\n",
    "\n",
    "data['location_general'] = data['location'].apply(lambda m: m.split(' --')[0])"
   ]
  },
  {
   "cell_type": "markdown",
   "metadata": {},
   "source": [
    "**id column (index) was created by pandas automaticaly**"
   ]
  },
  {
   "cell_type": "code",
   "execution_count": 58,
   "metadata": {},
   "outputs": [
    {
     "data": {
      "text/html": [
       "<div>\n",
       "<style scoped>\n",
       "    .dataframe tbody tr th:only-of-type {\n",
       "        vertical-align: middle;\n",
       "    }\n",
       "\n",
       "    .dataframe tbody tr th {\n",
       "        vertical-align: top;\n",
       "    }\n",
       "\n",
       "    .dataframe thead th {\n",
       "        text-align: right;\n",
       "    }\n",
       "</style>\n",
       "<table border=\"1\" class=\"dataframe\">\n",
       "  <thead>\n",
       "    <tr style=\"text-align: right;\">\n",
       "      <th></th>\n",
       "      <th>id</th>\n",
       "      <th>name</th>\n",
       "      <th>location</th>\n",
       "      <th>length</th>\n",
       "      <th>gain</th>\n",
       "      <th>highpoint</th>\n",
       "      <th>rating</th>\n",
       "      <th>features</th>\n",
       "      <th>description</th>\n",
       "      <th>trip</th>\n",
       "      <th>length_total</th>\n",
       "      <th>location_general</th>\n",
       "    </tr>\n",
       "  </thead>\n",
       "  <tbody>\n",
       "    <tr>\n",
       "      <th>7591</th>\n",
       "      <td>1615</td>\n",
       "      <td>Evergreen State College - Organic Farm Trail</td>\n",
       "      <td>Olympic Peninsula -- Olympia</td>\n",
       "      <td>0.8 miles, roundtrip</td>\n",
       "      <td>60</td>\n",
       "      <td>230.0</td>\n",
       "      <td>0.00</td>\n",
       "      <td>Dogs allowed on leash</td>\n",
       "      <td>This trail at the Evergreen State College lead...</td>\n",
       "      <td>roundtrip</td>\n",
       "      <td>0.8</td>\n",
       "      <td>Olympic Peninsula</td>\n",
       "    </tr>\n",
       "    <tr>\n",
       "      <th>1044</th>\n",
       "      <td>212</td>\n",
       "      <td>Bernhardt Mine</td>\n",
       "      <td>North Cascades -- Pasayten</td>\n",
       "      <td>5.2 miles, roundtrip</td>\n",
       "      <td>1600</td>\n",
       "      <td>7350.0</td>\n",
       "      <td>2.75</td>\n",
       "      <td>Wildflowers/Meadows</td>\n",
       "      <td>See first-hand the effects of wildland fire an...</td>\n",
       "      <td>roundtrip</td>\n",
       "      <td>5.2</td>\n",
       "      <td>North Cascades</td>\n",
       "    </tr>\n",
       "    <tr>\n",
       "      <th>7322</th>\n",
       "      <td>1555</td>\n",
       "      <td>Silver Shadow Loop</td>\n",
       "      <td>Southwest Washington -- Vancouver Area</td>\n",
       "      <td>5.0 miles, one-way</td>\n",
       "      <td>500</td>\n",
       "      <td>2477.0</td>\n",
       "      <td>0.00</td>\n",
       "      <td>Wildflowers/Meadows</td>\n",
       "      <td>This loop in Yacolt Burn State Forest makes fo...</td>\n",
       "      <td>one-way</td>\n",
       "      <td>10.0</td>\n",
       "      <td>Southwest Washington</td>\n",
       "    </tr>\n",
       "    <tr>\n",
       "      <th>3299</th>\n",
       "      <td>656</td>\n",
       "      <td>Triad Creek</td>\n",
       "      <td>North Cascades -- Mountain Loop Highway</td>\n",
       "      <td>4.0 miles, one-way</td>\n",
       "      <td>2755</td>\n",
       "      <td>5807.0</td>\n",
       "      <td>2.50</td>\n",
       "      <td>Rivers</td>\n",
       "      <td>A long neglected trail connecting Buck Creek P...</td>\n",
       "      <td>one-way</td>\n",
       "      <td>8.0</td>\n",
       "      <td>North Cascades</td>\n",
       "    </tr>\n",
       "    <tr>\n",
       "      <th>5364</th>\n",
       "      <td>1113</td>\n",
       "      <td>Fauntleroy Park</td>\n",
       "      <td>Puget Sound and Islands -- Seattle-Tacoma Area</td>\n",
       "      <td>1.5 miles of trails</td>\n",
       "      <td>350</td>\n",
       "      <td>360.0</td>\n",
       "      <td>0.00</td>\n",
       "      <td>Dogs allowed on leash</td>\n",
       "      <td>Fauntleroy Park, in West Seattle, is a few blo...</td>\n",
       "      <td>trails</td>\n",
       "      <td>1.5</td>\n",
       "      <td>Puget Sound and Islands</td>\n",
       "    </tr>\n",
       "  </tbody>\n",
       "</table>\n",
       "</div>"
      ],
      "text/plain": [
       "        id                                          name  \\\n",
       "7591  1615  Evergreen State College - Organic Farm Trail   \n",
       "1044   212                                Bernhardt Mine   \n",
       "7322  1555                            Silver Shadow Loop   \n",
       "3299   656                                   Triad Creek   \n",
       "5364  1113                               Fauntleroy Park   \n",
       "\n",
       "                                            location                length  \\\n",
       "7591                    Olympic Peninsula -- Olympia  0.8 miles, roundtrip   \n",
       "1044                      North Cascades -- Pasayten  5.2 miles, roundtrip   \n",
       "7322          Southwest Washington -- Vancouver Area    5.0 miles, one-way   \n",
       "3299         North Cascades -- Mountain Loop Highway    4.0 miles, one-way   \n",
       "5364  Puget Sound and Islands -- Seattle-Tacoma Area   1.5 miles of trails   \n",
       "\n",
       "      gain  highpoint  rating               features  \\\n",
       "7591    60      230.0    0.00  Dogs allowed on leash   \n",
       "1044  1600     7350.0    2.75    Wildflowers/Meadows   \n",
       "7322   500     2477.0    0.00    Wildflowers/Meadows   \n",
       "3299  2755     5807.0    2.50                 Rivers   \n",
       "5364   350      360.0    0.00  Dogs allowed on leash   \n",
       "\n",
       "                                            description       trip  \\\n",
       "7591  This trail at the Evergreen State College lead...  roundtrip   \n",
       "1044  See first-hand the effects of wildland fire an...  roundtrip   \n",
       "7322  This loop in Yacolt Burn State Forest makes fo...    one-way   \n",
       "3299  A long neglected trail connecting Buck Creek P...    one-way   \n",
       "5364  Fauntleroy Park, in West Seattle, is a few blo...     trails   \n",
       "\n",
       "      length_total         location_general  \n",
       "7591           0.8        Olympic Peninsula  \n",
       "1044           5.2           North Cascades  \n",
       "7322          10.0     Southwest Washington  \n",
       "3299           8.0           North Cascades  \n",
       "5364           1.5  Puget Sound and Islands  "
      ]
     },
     "execution_count": 58,
     "metadata": {},
     "output_type": "execute_result"
    }
   ],
   "source": [
    "data.sample(5)"
   ]
  },
  {
   "cell_type": "markdown",
   "metadata": {},
   "source": [
    "### Questions"
   ]
  },
  {
   "cell_type": "code",
   "execution_count": 60,
   "metadata": {},
   "outputs": [
    {
     "data": {
      "text/plain": [
       "318"
      ]
     },
     "execution_count": 60,
     "metadata": {},
     "output_type": "execute_result"
    }
   ],
   "source": [
    "# Question 1. How many routes have rating more than 4.9\n",
    "\n",
    "data[data.rating>4.9].shape[0]"
   ]
  },
  {
   "cell_type": "code",
   "execution_count": 62,
   "metadata": {},
   "outputs": [
    {
     "data": {
      "text/plain": [
       "694"
      ]
     },
     "execution_count": 62,
     "metadata": {},
     "output_type": "execute_result"
    }
   ],
   "source": [
    "# Question 2. How many routes are “Good for kids” (hint: you can use (unnest function)?\n",
    "\n",
    "data[data.features=='Good for kids'].shape[0]"
   ]
  },
  {
   "cell_type": "code",
   "execution_count": 69,
   "metadata": {},
   "outputs": [
    {
     "name": "stdout",
     "output_type": "stream",
     "text": [
      "['Dogs allowed on leash', 'Wildlife', 'Good for kids', 'Lakes', 'Fall foliage', 'Ridges/passes', 'Established campsites', 'Mountain views', 'Old growth', 'Waterfalls', 'Wildflowers/Meadows', 'Rivers', 'Dogs not allowed', 'Coast', 'Summits']\n"
     ]
    }
   ],
   "source": [
    "# Question 3. Which unique features can routes have?\n",
    "\n",
    "print(list(data.features.unique()))"
   ]
  },
  {
   "cell_type": "code",
   "execution_count": 85,
   "metadata": {},
   "outputs": [
    {
     "name": "stdout",
     "output_type": "stream",
     "text": [
      "0.00    1152\n",
      "3.00     723\n",
      "4.00     600\n",
      "3.50     375\n",
      "5.00     318\n",
      "        ... \n",
      "3.54       2\n",
      "3.52       2\n",
      "2.78       2\n",
      "3.07       1\n",
      "1.40       1\n",
      "Name: rating, Length: 201, dtype: int64\n",
      "\n",
      "The most popular rating is 0.00\n"
     ]
    }
   ],
   "source": [
    "# Question 4. What is the most common rating of a route?\n",
    "\n",
    "print(data.rating.value_counts())\n",
    "\n",
    "print(\"\\nThe most popular rating is 0.00\")"
   ]
  },
  {
   "cell_type": "code",
   "execution_count": 86,
   "metadata": {},
   "outputs": [
    {
     "data": {
      "text/plain": [
       "10.416626396170505"
      ]
     },
     "execution_count": 86,
     "metadata": {},
     "output_type": "execute_result"
    }
   ],
   "source": [
    "# Question 5. what is average length_total in whol dataset\n",
    "\n",
    "data['length_total'].mean()"
   ]
  }
 ],
 "metadata": {
  "kernelspec": {
   "display_name": "Python 3.10.8 64-bit",
   "language": "python",
   "name": "python3"
  },
  "language_info": {
   "codemirror_mode": {
    "name": "ipython",
    "version": 3
   },
   "file_extension": ".py",
   "mimetype": "text/x-python",
   "name": "python",
   "nbconvert_exporter": "python",
   "pygments_lexer": "ipython3",
   "version": "3.10.8"
  },
  "orig_nbformat": 4,
  "vscode": {
   "interpreter": {
    "hash": "b0fa6594d8f4cbf19f97940f81e996739fb7646882a419484c72d19e05852a7e"
   }
  }
 },
 "nbformat": 4,
 "nbformat_minor": 2
}
